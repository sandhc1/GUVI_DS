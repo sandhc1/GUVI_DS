{
  "nbformat": 4,
  "nbformat_minor": 0,
  "metadata": {
    "colab": {
      "name": "registration_login.ipynb",
      "provenance": [],
      "collapsed_sections": [],
      "authorship_tag": "ABX9TyNOa9XSMjBLkWN95AfVLfXq",
      "include_colab_link": true
    },
    "kernelspec": {
      "name": "python3",
      "display_name": "Python 3"
    },
    "language_info": {
      "name": "python"
    }
  },
  "cells": [
    {
      "cell_type": "markdown",
      "metadata": {
        "id": "view-in-github",
        "colab_type": "text"
      },
      "source": [
        "<a href=\"https://colab.research.google.com/github/sandhc1/GUVI_DS/blob/main/Registration_Login/registration_login.ipynb\" target=\"_parent\"><img src=\"https://colab.research.google.com/assets/colab-badge.svg\" alt=\"Open In Colab\"/></a>"
      ]
    },
    {
      "cell_type": "code",
      "execution_count": 6,
      "metadata": {
        "colab": {
          "base_uri": "https://localhost:8080/"
        },
        "id": "vzzJvtWUhiyd",
        "outputId": "aee7b7ae-9155-4b7b-fa6e-726d95930a70"
      },
      "outputs": [
        {
          "output_type": "stream",
          "name": "stdout",
          "text": [
            "Enter 1 for Registration \n",
            "Enter 2 for Login:\n",
            "1\n",
            "Welcome To Registration Page\n",
            "Enter Your Email Id : dev@gmail.com\n",
            "Enter Password : @Welcome123\n",
            "Registration Successful\n"
          ]
        }
      ],
      "source": [
        "import re\n",
        "import json\n",
        "\n",
        "\n",
        "def registration():\n",
        "    print(\"Welcome To Registration Page\")\n",
        "    username = input(\"Enter Your Email Id : \")\n",
        "    password = input(\"Enter Password : \")\n",
        "    pattern1 = \"^[a-zA-Z]+[a-zA-Z0-9.]+@[a-zA-Z]+.[a-zA-Z]+$\"\n",
        "    pattern2 = \"^(?=.*[a-z])(?=.*[A-Z])(?=.*\\d)(?=.*[@$!%*?&])[A-Za-z\\d@$!%*?&]{8,16}$\"\n",
        "    r1 = re.search(pattern1, username)\n",
        "    r2 = re.search(pattern2, password)\n",
        "    if r1:\n",
        "        if r2:\n",
        "            dic = {username: password}\n",
        "            with open(\"data.json\", \"r\") as file:\n",
        "                d = json.load(file)\n",
        "            d.update(dic)\n",
        "            with open(\"data.json\", \"w\")as file:\n",
        "                json.dump(d, file, indent=4)\n",
        "            file.close()\n",
        "            print(\"Registration Successful\")\n",
        "            login()\n",
        "        else:\n",
        "            print(\"Invalid Password format\")\n",
        "    else:\n",
        "        print(\"Invalid format of Username\")\n",
        "\n",
        "\n",
        "def login():\n",
        "    print(\"Welcome To Login Page\")\n",
        "    username = input(\"Enter your Email Id : \")\n",
        "    password = input(\"Enter Password : \")\n",
        "    with open(\"data.json\", \"r\") as file:\n",
        "        y = json.load(file)\n",
        "    if username in y:\n",
        "        if password in y[username]:\n",
        "            print(\"Welcome\", username)\n",
        "\n",
        "    elif username not in y:\n",
        "        print(\"Invalid Credentials\")\n",
        "        n = int(input(\"Enter 1 for Registration \\nEnter 2 for Forgot Password :\\n\"))\n",
        "        if n == 1:\n",
        "            registration()\n",
        "        elif n == 2:\n",
        "            forgot_password()\n",
        "\n",
        "\n",
        "def forgot_password():\n",
        "    print(\"Please provide the required details!\")\n",
        "    username = input(\"Enter your registered Mail ID : \")\n",
        "    with open(\"data.json\", \"r\") as file:\n",
        "        y = json.load(file)\n",
        "    if username in y:\n",
        "        if \"\" == y[username]:\n",
        "            password = input(\"Enter a new password : \")\n",
        "            pattern2 = \"^(?=.*[a-z])(?=.*[A-Z])(?=.*\\d)(?=.*[@$!%*?&])[A-Za-z\\d@$!%*?&]{8,16}$\"\n",
        "            r2 = re.search(pattern2, password)\n",
        "            if r2:\n",
        "                dic = {username: password}\n",
        "                y.update(dic)\n",
        "            with open(\"data.json\", \"w\")as file:\n",
        "                json.dump(y, file, indent=4)\n",
        "            file.close()\n",
        "        else:\n",
        "            print(\"Username:\", username)\n",
        "            print(\"Password:\", y[username])\n",
        "    elif username not in y:\n",
        "        print(\"Username doesnot exist\")\n",
        "        registration()\n",
        "\n",
        "\n",
        "# Press the green button in the gutter to run the script.\n",
        "if __name__ == '__main__':\n",
        "    d = {'datascience@gmail.com':'@Welcome123'}\n",
        "    with open(\"data.json\", \"w\") as file:\n",
        "        json.dump(d, file, indent=4)\n",
        "    file.close()\n",
        "    number = int(input(\"Enter 1 for Registration \\nEnter 2 for Login:\\n\"))\n",
        "    if number == 1:\n",
        "        registration()\n",
        "    elif number == 2:\n",
        "        login()\n",
        "    else:\n",
        "        print(\"Please enter 1 for Registration or 2 for Login\")\n"
      ]
    }
  ]
}